{
 "cells": [
  {
   "cell_type": "markdown",
   "id": "615ec28b",
   "metadata": {},
   "source": [
    "# Data Science Ecosystem"
   ]
  },
  {
   "cell_type": "markdown",
   "id": "2b19fc27",
   "metadata": {},
   "source": [
    "## Author\n",
    "Jimuelle V. Oria"
   ]
  },
  {
   "cell_type": "markdown",
   "id": "0e19ddcc",
   "metadata": {},
   "source": [
    "Welcome to my notebook! This notebook will summarize Data Science Tools and Ecosystems."
   ]
  },
  {
   "cell_type": "markdown",
   "id": "b3213fbd",
   "metadata": {},
   "source": [
    "**Objectives:**\n",
    "   * List of Popular Languages\n",
    "   * Common Libararies Used\n",
    "   * Table of Open Source Development Environment Tools\n",
    "   * Example Evauluation of Arithmetic Expressions"
   ]
  },
  {
   "cell_type": "markdown",
   "id": "b275959d",
   "metadata": {},
   "source": [
    "The most popular languages that Data Scientists use are:\n",
    "   1. Python\n",
    "   2. R\n",
    "   3. SQL"
   ]
  },
  {
   "cell_type": "markdown",
   "id": "3ae1293b",
   "metadata": {},
   "source": [
    "Here are some of the commonly used libraries by Data Scientist:\n",
    "   1. Pandas\n",
    "   2. Numpy\n",
    "   3. Matplotlib\n",
    "   4. Seaborn\n",
    "   5. Scikit-Learn\n",
    "   6. Keras\n",
    "   7. Tensor Flow\n",
    "   8. PyTorch"
   ]
  },
  {
   "cell_type": "markdown",
   "id": "1c6bc41f",
   "metadata": {},
   "source": [
    "|Data Science Tools|\n",
    "|------------------|\n",
    "|VSCode|\n",
    "|Jupyter Notebook|\n",
    "|Spyder|"
   ]
  },
  {
   "cell_type": "markdown",
   "id": "9c92da41",
   "metadata": {},
   "source": [
    "### Below are a few examples of evalutating arithmetic expressions in Python."
   ]
  },
  {
   "cell_type": "code",
   "execution_count": 1,
   "id": "86fbb9b9",
   "metadata": {},
   "outputs": [
    {
     "data": {
      "text/plain": [
       "17"
      ]
     },
     "execution_count": 1,
     "metadata": {},
     "output_type": "execute_result"
    }
   ],
   "source": [
    "#This arithmetic expression first multiplies and then adds integers\n",
    "(3*4)+5"
   ]
  },
  {
   "cell_type": "code",
   "execution_count": 3,
   "id": "363cac99",
   "metadata": {},
   "outputs": [
    {
     "data": {
      "text/plain": [
       "3.3333333333333335"
      ]
     },
     "execution_count": 3,
     "metadata": {},
     "output_type": "execute_result"
    }
   ],
   "source": [
    "#This will convert 200 minutes to hours by divivding by 60\n",
    "200 / 60"
   ]
  },
  {
   "cell_type": "code",
   "execution_count": null,
   "id": "b6f0b1e2",
   "metadata": {},
   "outputs": [],
   "source": []
  }
 ],
 "metadata": {
  "kernelspec": {
   "display_name": "Python 3 (ipykernel)",
   "language": "python",
   "name": "python3"
  },
  "language_info": {
   "codemirror_mode": {
    "name": "ipython",
    "version": 3
   },
   "file_extension": ".py",
   "mimetype": "text/x-python",
   "name": "python",
   "nbconvert_exporter": "python",
   "pygments_lexer": "ipython3",
   "version": "3.9.13"
  }
 },
 "nbformat": 4,
 "nbformat_minor": 5
}
